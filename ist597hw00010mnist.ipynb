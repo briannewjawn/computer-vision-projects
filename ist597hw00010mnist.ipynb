{
  "cells": [
    {
      "cell_type": "markdown",
      "metadata": {
        "id": "view-in-github",
        "colab_type": "text"
      },
      "source": [
        "<a href=\"https://colab.research.google.com/github/briannewjawn/computer-vision-projects/blob/main/ist597hw00010mnist.ipynb\" target=\"_parent\"><img src=\"https://colab.research.google.com/assets/colab-badge.svg\" alt=\"Open In Colab\"/></a>"
      ]
    },
    {
      "cell_type": "markdown",
      "metadata": {
        "id": "v-EjWawmpMM9"
      },
      "source": [
        "Loading the Libraries"
      ]
    },
    {
      "cell_type": "code",
      "execution_count": null,
      "metadata": {
        "id": "T_0hEw7JpQdb"
      },
      "outputs": [],
      "source": [
        "import os\n",
        "import numpy as np\n",
        "import time\n",
        "import tensorflow as tf\n",
        "\n",
        "np.random.seed(3123)"
      ]
    },
    {
      "cell_type": "code",
      "source": [
        "import matplotlib.pyplot as plt"
      ],
      "metadata": {
        "id": "jw1HI9iIytVw"
      },
      "execution_count": null,
      "outputs": []
    },
    {
      "cell_type": "markdown",
      "metadata": {
        "id": "AGjiUZKDpRmQ"
      },
      "source": [
        "Generate random data"
      ]
    },
    {
      "cell_type": "code",
      "execution_count": null,
      "metadata": {
        "id": "m_rov2etpVb7"
      },
      "outputs": [],
      "source": [
        "size_input = 784\n",
        "size_hidden1 = 128\n",
        "size_hidden2 = 128\n",
        "size_output = 10\n",
        "\n"
      ]
    },
    {
      "cell_type": "code",
      "execution_count": null,
      "metadata": {
        "id": "g9mJhPCmqB5D",
        "colab": {
          "base_uri": "https://localhost:8080/"
        },
        "outputId": "32adee14-faed-44f1-ddc1-dd06291f9e8c"
      },
      "outputs": [
        {
          "output_type": "stream",
          "name": "stdout",
          "text": [
            "Downloading data from https://storage.googleapis.com/tensorflow/tf-keras-datasets/mnist.npz\n",
            "11493376/11490434 [==============================] - 0s 0us/step\n",
            "11501568/11490434 [==============================] - 0s 0us/step\n"
          ]
        }
      ],
      "source": [
        "#Import Mnist Dataset\n",
        "\n",
        "(X_train,y_train), (X_test, y_test) = tf.keras.datasets.mnist.load_data()\n",
        "X_val = X_train[50000:60000]\n",
        "X_train =X_train[0:50000]\n",
        "y_val = y_train[50000:60000]\n",
        "y_train=y_train[0:50000]\n"
      ]
    },
    {
      "cell_type": "code",
      "execution_count": null,
      "metadata": {
        "id": "2G2sGwUBW5Nk"
      },
      "outputs": [],
      "source": [
        "#Reshape Data\n",
        "X_train= X_train.reshape(50000, 784)\n",
        "X_val = X_val.reshape(10000,784)\n",
        "X_test= X_test.reshape(10000, 784)"
      ]
    },
    {
      "cell_type": "code",
      "execution_count": null,
      "metadata": {
        "id": "PUL4Ud1eW6pR"
      },
      "outputs": [],
      "source": [
        "#normalize x value to 0-1\n",
        "X_train = tf.keras.utils.normalize(X_train, axis = 1)\n",
        "X_val = tf.keras.utils.normalize(X_val, axis = 1)\n",
        "X_test = tf.keras.utils.normalize(X_test, axis = 1)\n",
        "\n",
        "#change y value to one hot encoding\n",
        "y_train = tf.keras.utils.to_categorical(y_train, size_output)\n",
        "y_val = tf.keras.utils.to_categorical(y_val, size_output)\n",
        "y_test = tf.keras.utils.to_categorical(y_test, size_output)\n",
        "\n"
      ]
    },
    {
      "cell_type": "code",
      "execution_count": null,
      "metadata": {
        "id": "7hdiAWdVshfJ"
      },
      "outputs": [],
      "source": [
        "# Split dataset into batches\n",
        "train_ds = tf.data.Dataset.from_tensor_slices((X_train, y_train)).batch(256)\n",
        "val_ds = tf.data.Dataset.from_tensor_slices((X_val, y_val)).batch(16)\n",
        "#train_ds = tf.data.Dataset.from_tensor_slices((X_train, y_train)).batch(16)\n",
        "test_ds = tf.data.Dataset.from_tensor_slices((X_test, y_test)).batch(4)\n",
        "#test_ds = tf.data.Dataset.from_tensor_slices((X_test, y_test)).batch(4)\n"
      ]
    },
    {
      "cell_type": "markdown",
      "metadata": {
        "id": "bWNhE_30tAQG"
      },
      "source": [
        "Build MLP using Eager Execution"
      ]
    },
    {
      "cell_type": "code",
      "execution_count": null,
      "metadata": {
        "id": "9JdAFeOitDXe"
      },
      "outputs": [],
      "source": [
        "# Define class to build mlp model\n",
        "class MLP(object):\n",
        "  def __init__(self, size_input, size_hidden1,size_hidden2, size_output, device=None):\n",
        "    \"\"\"\n",
        "    size_input: int, size of input layer\n",
        "    size_hidden: int, size of hidden layer\n",
        "    size_output: int, size of output layer\n",
        "    device: str or None, either 'cpu' or 'gpu' or None. If None, the device to be used will be decided automatically during Eager Execution\n",
        "    \"\"\"\n",
        "    self.size_input, self.size_hidden1, self.size_hidden2, self.size_output, self.device =\\\n",
        "    size_input, size_hidden1, size_hidden2, size_output, device\n",
        "    \n",
        "    # Initialize weights between input layer and hidden layer 1\n",
        "    self.W1 = tf.Variable(tf.random.normal([self.size_input, self.size_hidden1]))\n",
        "    # Initialize biases for hidden layer 1\n",
        "    self.b1 = tf.Variable(tf.random.normal([1, self.size_hidden1]))\n",
        "     # Initialize weights between hidden layer 1 and hidden layer 2\n",
        "    self.W2 = tf.Variable(tf.random.normal([self.size_hidden1, self.size_hidden2]))\n",
        "    # Initialize biases for hidden layer 2\n",
        "    self.b2 = tf.Variable(tf.random.normal([1, self.size_hidden2]))\n",
        "    # Initialize weights between hidden layer 2 and output layer\n",
        "    self.W3 = tf.Variable(tf.random.normal([self.size_hidden2, self.size_output]))\n",
        "    # Initialize biases for output layer\n",
        "    self.b3 = tf.Variable(tf.random.normal([1, self.size_output]))\n",
        "    \n",
        "    # Define variables to be updated during backpropagation\n",
        "    self.Wvariables = [self.W1, self.W2, self.W3]\n",
        "    \n",
        "    self.variables = [self.W1, self.W2, self.W3, self.b1, self.b2, self.b3]\n",
        "    \n",
        "  def forward(self, X):\n",
        "    \"\"\"\n",
        "    forward pass\n",
        "    X: Tensor, inputs\n",
        "    \"\"\"\n",
        "    if self.device is not None:\n",
        "      with tf.device('gpu:0' if self.device=='gpu' else 'cpu'):\n",
        "        self.y = self.compute_output(X)\n",
        "    else:\n",
        "      self.y = self.compute_output(X)\n",
        "      \n",
        "    return self.y\n",
        "  \n",
        "  def loss(self, y_pred, y_true):\n",
        "    '''\n",
        "    y_pred - Tensor of shape (batch_size, size_output)\n",
        "    y_true - Tensor of shape (batch_size, size_output)\n",
        "    '''\n",
        "    y_true_tf = tf.cast(tf.reshape(y_true, (-1, self.size_output)), dtype=tf.float32)\n",
        "    y_pred_tf = tf.cast(y_pred, dtype=tf.float32)\n",
        "    regularizerL1L2 = tf.keras.regularizers.L1L2()\n",
        "    regularizerL2 = tf.keras.regularizers.L2()\n",
        "    lossL1L2 = tf.add_n([regularizerL1L2(v) for v in self.Wvariables ])\n",
        "    \n",
        "    lossL2 = tf.add_n([regularizerL2(v) for v in self.Wvariables ])\n",
        "    return tf.keras.losses.categorical_crossentropy(y_true_tf, y_pred_tf) + lossL1L2\n",
        "    #return regularizer(tf.keras.losses.categorical_crossentropy(y_true_tf, y_pred_tf))\n",
        "\n",
        "\n",
        "  \n",
        "  def backward(self, X_train, y_train):\n",
        "    \"\"\"\n",
        "    backward pass\n",
        "    \"\"\"\n",
        "    optimizer = tf.keras.optimizers.SGD(learning_rate=3e-3)\n",
        "    with tf.GradientTape() as tape:\n",
        "      predicted = self.forward(X_train)\n",
        "      current_loss = self.loss(predicted, y_train)\n",
        "    grads = tape.gradient(current_loss, self.variables)\n",
        "    optimizer.apply_gradients(zip(grads, self.variables))\n",
        "    \n",
        "        \n",
        "        \n",
        "  def compute_output(self, X):\n",
        "    \"\"\"\n",
        "    Custom method to obtain output tensor during forward pass\n",
        "    \"\"\"\n",
        "    # Cast X to float32\n",
        "    X_tf = tf.cast(X, dtype=tf.float32)\n",
        "    #Remember to normalize your dataset before moving forward\n",
        "    # Compute values in hidden layer 1\n",
        "    what1 = tf.matmul(X_tf, self.W1) + self.b1\n",
        "    hhat1 = tf.nn.relu(what1)\n",
        "    # Compute values in hidden layer 2\n",
        "    what2 = tf.matmul(hhat1, self.W2) + self.b2\n",
        "    hhat2 = tf.nn.relu(what2)\n",
        "    # Compute output\n",
        "    output = tf.nn.softmax(tf.matmul(hhat2, self.W3) + self.b3)\n",
        "   \n",
        "    #Now consider two things , First look at inbuild loss functions if they work with softmax or not and then change this\n",
        "    #Second add tf.Softmax(output) and then return this variable\n",
        "    return output"
      ]
    },
    {
      "cell_type": "markdown",
      "metadata": {
        "id": "WdTm_bvBpc5k"
      },
      "source": [
        "Train Model"
      ]
    },
    {
      "cell_type": "code",
      "execution_count": null,
      "metadata": {
        "id": "VJEJD55il8it"
      },
      "outputs": [],
      "source": [
        "# Set number of epochs\n",
        "NUM_EPOCHS = 10\n"
      ]
    },
    {
      "cell_type": "code",
      "execution_count": null,
      "metadata": {
        "colab": {
          "base_uri": "https://localhost:8080/",
          "height": 702
        },
        "id": "bSAogAi3o041",
        "outputId": "f7c1c44e-dc9d-4f51-90a7-6dda04e5fde7"
      },
      "outputs": [
        {
          "output_type": "stream",
          "name": "stdout",
          "text": [
            "Number of Epoch = 1 - Average Training Lost:= 11.43686625\n",
            "Training Accuracy = 56.383997201919556\n",
            "Number of Epoch = 2 - Average Training Lost:= 5.29386625\n",
            "Training Accuracy = 69.43399906158447\n",
            "Number of Epoch = 3 - Average Training Lost:= 4.4602790625\n",
            "Training Accuracy = 72.18999862670898\n",
            "Number of Epoch = 4 - Average Training Lost:= 4.2242\n",
            "Training Accuracy = 72.86400198936462\n",
            "Number of Epoch = 5 - Average Training Lost:= 3.495794375\n",
            "Training Accuracy = 81.03600144386292\n",
            "Number of Epoch = 6 - Average Training Lost:= 2.53521046875\n",
            "Training Accuracy = 82.09400177001953\n",
            "Number of Epoch = 7 - Average Training Lost:= 2.33816984375\n",
            "Training Accuracy = 83.17199945449829\n",
            "Number of Epoch = 8 - Average Training Lost:= 1.0326671875\n",
            "Training Accuracy = 93.14600229263306\n",
            "Number of Epoch = 9 - Average Training Lost:= 0.3606898046875\n",
            "Training Accuracy = 94.36399936676025\n",
            "Number of Epoch = 10 - Average Training Lost:= 0.28310884765625\n",
            "Training Accuracy = 94.85399723052979\n",
            "\n",
            "Total time taken (in seconds): 690.48\n"
          ]
        },
        {
          "output_type": "display_data",
          "data": {
            "image/png": "[encoded data removed]",
            "text/plain": [
              "<Figure size 432x288 with 1 Axes>"
            ]
          },
          "metadata": {
            "needs_background": "light"
          }
        }
      ],
      "source": [
        "#Default mode\n",
        "mlp_on_default = MLP(size_input, size_hidden1,size_hidden2, size_output, device='gpu')\n",
        "###\n",
        "x= list(range(1, 11))\n",
        "y1=[]\n",
        "y2=[]\n",
        "#correct_predictions =tf.Variable(0, dtype=tf.float32)\n",
        "###\n",
        "time_start = time.time()\n",
        "for epoch in range(NUM_EPOCHS):\n",
        "  loss_total_gpu = tf.zeros([1,1], dtype=tf.float32)\n",
        "  loss_total_v = tf.zeros([1,1], dtype=tf.float32)\n",
        "  lt = 0\n",
        "  accuracytrain = []\n",
        "  train_ds = tf.data.Dataset.from_tensor_slices((X_train, y_train)).shuffle(25, seed=epoch*(3123)).batch(20)\n",
        "  for inputs, outputs in train_ds:\n",
        "    preds = mlp_on_default.forward(inputs)\n",
        "    loss_total_gpu = loss_total_gpu + mlp_on_default.loss(preds, outputs)\n",
        "    lt = lt + mlp_on_default.loss(preds, outputs)\n",
        "    mlp_on_default.backward(inputs, outputs)\n",
        "    ####\n",
        "    #train_accuracy_metric.update_state(tf.argmax(outputs), tf.argmax(preds))\n",
        "    #if prediction = true value then increment correctioon prediciton\n",
        "    #for i in range(preds.shape[0]):\n",
        "        #if tf.argmax(preds[i])== tf.argmax(outputs[i]):\n",
        "          #correct_predictions = correct_predictions + 1.0\n",
        "  ####\n",
        "  #train_accuracy = train_accuracy_metric.result().numpy()\n",
        "  #accuracytrain = correct_predictions/X_train.shape[0]*100\n",
        "  train_accuracy_metric = tf.metrics.CategoricalAccuracy()\n",
        "  y1.append( np.sum(loss_total_gpu) / X_train.shape[0])\n",
        "  accuracytrain.append(train_accuracy_metric(mlp_on_default.forward(X_train),y_train))\n",
        "  y2.append(np.mean(accuracytrain)*100)\n",
        "  ##########VALIDATION SET\n",
        "  \n",
        " \n",
        "\n",
        "  #print(\"test\",train_accuracy)\n",
        "  print('Number of Epoch = {} - Average Training Lost:= {}'.format(epoch + 1, np.sum(loss_total_gpu) / X_train.shape[0]))\n",
        "  print('Training Accuracy = {}'.format(np.mean(accuracytrain)*100))\n",
        "\n",
        "  \n",
        "  # Reset training metrics at the end of each epoch\n",
        "  #correct_predictions =tf.Variable(0, dtype=tf.float32)\n",
        "  #train_accuracy_metric.reset_state()\n",
        "time_taken = time.time() - time_start\n",
        "print('\\nTotal time taken (in seconds): {:.2f}'.format(time_taken))\n",
        "#### GRAPH\n",
        "plt.plot(x, y1 , 'k-', label='Train Loss')\n",
        "plt.plot(x,y2, 'r--', label='Train Accuracy')\n",
        "plt.title('Loss (CCE) per Epoch')\n",
        "plt.legend(loc='upper right')\n",
        "plt.xlabel('Epoch')\n",
        "plt.yscale(\"log\")\n",
        "plt.ylabel('Loss')\n",
        "plt.show()"
      ]
    },
    {
      "cell_type": "markdown",
      "source": [
        "Validation"
      ],
      "metadata": {
        "id": "UGwuu5ejYiG6"
      }
    },
    {
      "cell_type": "code",
      "source": [
        "NUM_ValidationE = 5\n",
        "time_start = time.time()\n",
        "for validation in range(NUM_ValidationE):\n",
        "  loss_total_v = tf.zeros([1,1], dtype=tf.float32)\n",
        "  ltv = 0\n",
        "  validationtrain = []\n",
        "  for vinputs, voutputs in val_ds:\n",
        "    valpreds = mlp_on_default.forward(vinputs)\n",
        "    loss_total_v = loss_total_v + mlp_on_default.loss(valpreds, voutputs)\n",
        "    ltv = ltv + mlp_on_default.loss(valpreds, voutputs)\n",
        "  val_accuracy_metric = tf.metrics.CategoricalAccuracy()\n",
        "  validationtrain.append(val_accuracy_metric(mlp_on_default.forward(X_val),y_val))\n",
        "\n",
        "  print('Number of Epoch = {} Validation Lost:= {}'.format(validation + 1, np.sum(loss_total_v) / X_val.shape[0]))\n",
        "  print('Validation Accuracy = {}'.format(np.mean(validationtrain)*100))\n",
        "  \n",
        " \n",
        "time_taken = time.time() - time_start\n",
        "print('\\nTotal time taken (in seconds): {:.2f}'.format(time_taken))"
      ],
      "metadata": {
        "colab": {
          "base_uri": "https://localhost:8080/"
        },
        "id": "T7AzfVTiYlsC",
        "outputId": "f7b6099a-2386-47fe-d2ac-3f5f5de277cb"
      },
      "execution_count": null,
      "outputs": [
        {
          "output_type": "stream",
          "name": "stdout",
          "text": [
            "Number of Epoch = 1 Validation Lost:= 0.319443896484375\n",
            "Validation Accuracy = 94.8199987411499\n",
            "Number of Epoch = 2 Validation Lost:= 0.319443896484375\n",
            "Validation Accuracy = 94.8199987411499\n",
            "Number of Epoch = 3 Validation Lost:= 0.319443896484375\n",
            "Validation Accuracy = 94.8199987411499\n",
            "Number of Epoch = 4 Validation Lost:= 0.319443896484375\n",
            "Validation Accuracy = 94.8199987411499\n",
            "Number of Epoch = 5 Validation Lost:= 0.319443896484375\n",
            "Validation Accuracy = 94.8199987411499\n",
            "\n",
            "Total time taken (in seconds): 21.03\n"
          ]
        }
      ]
    },
    {
      "cell_type": "markdown",
      "metadata": {
        "id": "XrYR0i2OpZoy"
      },
      "source": [
        "One Step Inference"
      ]
    },
    {
      "cell_type": "code",
      "execution_count": null,
      "metadata": {
        "colab": {
          "base_uri": "https://localhost:8080/"
        },
        "id": "JsaGqllepWop",
        "outputId": "8698fc59-2c9d-4477-b77a-75b375e8696d"
      },
      "outputs": [
        {
          "output_type": "stream",
          "name": "stdout",
          "text": [
            "Test CCE: 0.0758\n",
            "test accuracy = 93.0199966430664\n"
          ]
        }
      ],
      "source": [
        "test_loss_total = tf.Variable(0, dtype=tf.float32)\n",
        "correct_test_prediction = tf.Variable(0, dtype=tf.float32)\n",
        "#test_loss_total = 0.0\n",
        "\n",
        "for inputs, outputs in test_ds:\n",
        "  preds = mlp_on_default.forward(inputs)\n",
        "  #b = mlp_on_default.loss(preds, outputs)\n",
        "  test_loss_total = test_loss_total + mlp_on_default.loss(preds, outputs)\n",
        "  \n",
        "  \n",
        "  for i in range(preds.shape[0]):\n",
        "    if tf.argmax(preds[i])== tf.argmax(outputs[i]):\n",
        "      correct_test_prediction = correct_test_prediction + 1.0\n",
        "  \n",
        "\n",
        "# a = (test_loss_total.numpy() / X_train.shape[0])\n",
        "# print(X_train.shape[0])\n",
        "# print(test_loss_total.numpy())\n",
        "# print(b)\n",
        "accuracytest = correct_test_prediction/X_test.shape[0]*100\n",
        "print('Test CCE: {:.4f}'.format(np.sum(test_loss_total.numpy()) / X_train.shape[0]))\n",
        "print('test accuracy = {}'.format(accuracytest))\n",
        "\n",
        "\n"
      ]
    },
    {
      "cell_type": "code",
      "source": [
        ""
      ],
      "metadata": {
        "colab": {
          "base_uri": "https://localhost:8080/"
        },
        "id": "B8xuMTuMGwPe",
        "outputId": "23952c7d-3984-4cfe-a784-c98f995f9611"
      },
      "execution_count": null,
      "outputs": [
        {
          "output_type": "execute_result",
          "data": {
            "text/plain": [
              "[1, 2, 3, 4, 5, 6, 7, 8, 9]"
            ]
          },
          "metadata": {},
          "execution_count": 94
        }
      ]
    },
    {
      "cell_type": "markdown",
      "source": [
        "Test EPOCH"
      ],
      "metadata": {
        "id": "mvpVgBi_qevB"
      }
    },
    {
      "cell_type": "markdown",
      "source": [
        "Graphs"
      ],
      "metadata": {
        "id": "8QHinIdFyVU7"
      }
    },
    {
      "cell_type": "code",
      "source": [
        "plt.plot(x, ytest , 'k-', label='Test Loss')\n",
        "plt.plot(x, y1 , 'd-', label='train Loss')\n",
        "plt.plot()\n",
        "plt.title('Loss (CCE) per Epoch')\n",
        "plt.legend(loc='upper right')\n",
        "plt.xlabel('Epoch')\n",
        "plt.ylabel('Loss')\n",
        "plt.show()"
      ],
      "metadata": {
        "colab": {
          "base_uri": "https://localhost:8080/",
          "height": 295
        },
        "id": "qG74S5f1yWMb",
        "outputId": "6b9a462f-aeca-48d7-d567-9b22c888afe7"
      },
      "execution_count": null,
      "outputs": [
        {
          "output_type": "display_data",
          "data": {
            "image/png": "[encoded data removed]",
            "text/plain": [
              "<Figure size 432x288 with 1 Axes>"
            ]
          },
          "metadata": {
            "needs_background": "light"
          }
        }
      ]
    }
  ],
  "metadata": {
    "colab": {
      "name": "ist597hw00010mnist.ipynb",
      "provenance": [],
      "collapsed_sections": [],
      "authorship_tag": "ABX9TyOstFMdgC67K+X+hLSlyCXA",
      "include_colab_link": true
    },
    "kernelspec": {
      "display_name": "Python 3",
      "name": "python3"
    },
    "language_info": {
      "name": "python"
    }
  },
  "nbformat": 4,
  "nbformat_minor": 0
}